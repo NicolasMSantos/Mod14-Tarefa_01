{
 "cells": [
  {
   "attachments": {
    "41f44672-3122-4bf7-a54f-a85735bfea1c.png": {
     "image/png": "[encoded data removed]"
    }
   },
   "cell_type": "markdown",
   "id": "c85399dc-20fe-4e3d-8c24-702b2916658d",
   "metadata": {},
   "source": [
    "![image.png](attachment:41f44672-3122-4bf7-a54f-a85735bfea1c.png)"
   ]
  },
  {
   "cell_type": "markdown",
   "id": "b129d310-0927-474e-802b-11955f9cec6a",
   "metadata": {},
   "source": [
    "Profissão: Cientista de Dados"
   ]
  },
  {
   "cell_type": "markdown",
   "id": "1cad76c8-5805-4b3d-b351-29df35fcc5f0",
   "metadata": {},
   "source": [
    "Módulo 14 | Scripting | Exercício 1"
   ]
  },
  {
   "cell_type": "code",
   "execution_count": 11,
   "id": "3cb1eb43-3620-4b00-b7de-14184cba4a82",
   "metadata": {},
   "outputs": [
    {
     "data": {
      "text/plain": [
       "'C:\\\\Users\\\\medei\\\\Documents\\\\Projetos\\\\Mod14 Tarefa_01'"
      ]
     },
     "execution_count": 11,
     "metadata": {},
     "output_type": "execute_result"
    }
   ],
   "source": [
    "pwd"
   ]
  },
  {
   "cell_type": "code",
   "execution_count": 16,
   "id": "2ff71934-4afe-43ed-b9db-a9a4a1f32bff",
   "metadata": {},
   "outputs": [
    {
     "name": "stdout",
     "output_type": "stream",
     "text": [
      "Data inicial: 2019-01-01 Data final: 2019-03-31\n",
      "Nome da pasta: 2019-03 \n",
      "\n",
      "Data inicial: 2019-01-01 Data final: 2019-04-30\n",
      "Nome da pasta: 2019-04 \n",
      "\n",
      "Data inicial: 2019-01-01 Data final: 2019-05-31\n",
      "Nome da pasta: 2019-05 \n",
      "\n",
      "Data inicial: 2019-01-01 Data final: 2019-06-30\n",
      "Nome da pasta: 2019-06 \n",
      "\n",
      "Data inicial: 2019-01-01 Data final: 2019-12-31\n",
      "Nome da pasta: 2019-12 \n",
      "\n"
     ]
    }
   ],
   "source": [
    "import pandas as pd\n",
    "import matplotlib.pyplot as plt\n",
    "import seaborn as sns\n",
    "\n",
    "import os\n",
    "\n",
    "sns.set_theme()\n",
    "\n",
    "def plot_pivot_table(df: pd.DataFrame, \n",
    "                     value: str, \n",
    "                     index: str, \n",
    "                     func: str, \n",
    "                     ylabel: str, \n",
    "                     xlabel: str, \n",
    "                     opcao: str='nenhuma'\n",
    "                    ) -> None:\n",
    "    if opcao == 'nenhuma':\n",
    "        pd.pivot_table(data=df, \n",
    "                       values=value, \n",
    "                       index=index,\n",
    "                       aggfunc=func\n",
    "                      ).plot(figsize=[15, 5])\n",
    "    elif opcao == 'sort':\n",
    "        pd.pivot_table(data=df, \n",
    "                       values=value, \n",
    "                       index=index,\n",
    "                       aggfunc=func\n",
    "                      ).sort_values(value).plot(figsize=[15, 5])\n",
    "    elif opcao == 'unstack':\n",
    "        pd.pivot_table(data=df, \n",
    "                       values=value, \n",
    "                       index=index,\n",
    "                       aggfunc=func\n",
    "                      ).unstack().plot(figsize=[15, 5])\n",
    "    plt.ylabel(ylabel)\n",
    "    plt.xlabel(xlabel)\n",
    "    return None\n",
    "\n",
    "\n",
    "meses = ['MAR', 'ABR', 'MAI', 'JUN', 'DEZ']\n",
    "\n",
    "for mes in meses:\n",
    "    sinasc = pd.read_csv('./input/SINASC_RO_2019_'+mes+'.csv')\n",
    "\n",
    "    max_data = sinasc.DTNASC.max()[:7]\n",
    "    os.makedirs('./output/figs/'+max_data, exist_ok=True)\n",
    "\n",
    "    plot_pivot_table(df=sinasc, \n",
    "                     value='IDADEMAE', \n",
    "                     index='DTNASC', \n",
    "                     func='count', \n",
    "                     ylabel='Quantidade de nascimentos', \n",
    "                     xlabel='Data de nascimento')\n",
    "    plt.savefig('./output/figs/'+max_data+'/Quantidade de nascimentos.png')\n",
    "    plt.close()\n",
    "\n",
    "    plot_pivot_table(df=sinasc, \n",
    "                     value='IDADEMAE', \n",
    "                     index=['DTNASC', 'SEXO'], \n",
    "                     func='mean', \n",
    "                     ylabel='Média da idade das mães', \n",
    "                     xlabel='Data de nascimento', \n",
    "                     opcao='unstack')\n",
    "    plt.savefig('./output/figs/'+max_data+'/Média da idade das mães por sexo.png')\n",
    "    plt.close()\n",
    "\n",
    "    plot_pivot_table(df=sinasc, \n",
    "                     value='PESO', \n",
    "                     index=['DTNASC', 'SEXO'], \n",
    "                     func='mean', \n",
    "                     ylabel='Média do peso dos bebês', \n",
    "                     xlabel='Data de nascimento',\n",
    "                     opcao='unstack')\n",
    "    plt.savefig('./output/figs/'+max_data+'/Média do peso dos bebês por sexo.png')\n",
    "    plt.close()\n",
    "\n",
    "    plot_pivot_table(df=sinasc, \n",
    "                     value='APGAR1', \n",
    "                     index='ESCMAE', \n",
    "                     func='median', \n",
    "                     ylabel='Mediana do APGAR1', \n",
    "                     xlabel='Escolaridade',\n",
    "                     opcao='sort')\n",
    "    plt.savefig('./output/figs/'+max_data+'/Mediana do APGAR1 por escolaridade das mães.png')\n",
    "    plt.close()\n",
    "\n",
    "    plot_pivot_table(df=sinasc, \n",
    "                     value='APGAR1', \n",
    "                     index='GESTACAO', \n",
    "                     func='mean', \n",
    "                     ylabel='Média do APGAR1', \n",
    "                     xlabel='Gestação',\n",
    "                     opcao='sort')\n",
    "    plt.savefig('./output/figs/'+max_data+'/Média do APGAR1 por gestação.png')\n",
    "    plt.close()\n",
    "\n",
    "    plot_pivot_table(df=sinasc, \n",
    "                     value='APGAR5', \n",
    "                     index='GESTACAO', \n",
    "                     func='mean', \n",
    "                     ylabel='Média do APGAR5', \n",
    "                     xlabel='Gestação',\n",
    "                     opcao='sort')\n",
    "    plt.savefig('./output/figs/'+max_data+'/Média do APGAR5 por gestação.png')\n",
    "    plt.close()\n",
    "    \n",
    "    print('Data inicial:', sinasc.DTNASC.min(), \n",
    "          'Data final:', sinasc.DTNASC.max())\n",
    "    print('Nome da pasta:', max_data, '\\n')"
   ]
  },
  {
   "cell_type": "markdown",
   "id": "015968ad-5fb8-449f-9b63-68a764f98f95",
   "metadata": {},
   "source": [
    "Uma forma de deixar o processo de geração de gráficos mais automatizado seria organizar o código para que ele não dependa diretamente de nomes fixos de arquivos ou de parâmetros definidos manualmente para cada gráfico. Ao invés de escrever um bloco de código para cada variável ou mês, seria possível criar funções mais genéricas que recebem como entrada o nome da variável, o tipo de agregação e o título do gráfico, e a partir disso já criam, salvam e organizam os arquivos automaticamente. Também ajudaria muito fazer a leitura automática dos arquivos da pasta, sem precisar listar manualmente os meses, permitindo que qualquer novo arquivo que for adicionado à pasta já seja considerado automaticamente na análise. Isso torna o código muito mais flexível e reaproveitável, principalmente se futuramente forem incluídos dados de outros anos ou meses adicionais. Outra coisa que facilitaria bastante seria armazenar as informações necessárias para os gráficos, como os eixos e os títulos, em uma estrutura como uma lista de dicionários, pois assim o código poderia percorrer essa lista e gerar tudo de uma vez, sem repetição. Dessa forma, o trabalho de atualizar ou adaptar os gráficos para novos períodos seria mínimo e não exigiria quase nenhuma modificação no código original."
   ]
  }
 ],
 "metadata": {
  "kernelspec": {
   "display_name": "Python 3 (ipykernel)",
   "language": "python",
   "name": "python3"
  },
  "language_info": {
   "codemirror_mode": {
    "name": "ipython",
    "version": 3
   },
   "file_extension": ".py",
   "mimetype": "text/x-python",
   "name": "python",
   "nbconvert_exporter": "python",
   "pygments_lexer": "ipython3",
   "version": "3.12.4"
  }
 },
 "nbformat": 4,
 "nbformat_minor": 5
}
